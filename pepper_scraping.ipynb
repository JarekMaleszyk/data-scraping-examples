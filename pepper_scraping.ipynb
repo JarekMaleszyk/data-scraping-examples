{
  "nbformat": 4,
  "nbformat_minor": 0,
  "metadata": {
    "colab": {
      "provenance": [],
      "authorship_tag": "ABX9TyMGIALA+MH7gEqOYeMA6gSF",
      "include_colab_link": true
    },
    "kernelspec": {
      "name": "python3",
      "display_name": "Python 3"
    },
    "language_info": {
      "name": "python"
    }
  },
  "cells": [
    {
      "cell_type": "markdown",
      "metadata": {
        "id": "view-in-github",
        "colab_type": "text"
      },
      "source": [
        "<a href=\"https://colab.research.google.com/github/JarekMaleszyk/data-scraping-examples/blob/main/pepper_scraping.ipynb\" target=\"_parent\"><img src=\"https://colab.research.google.com/assets/colab-badge.svg\" alt=\"Open In Colab\"/></a>"
      ]
    },
    {
      "cell_type": "code",
      "source": [
        "import requests\n",
        "from bs4 import BeautifulSoup\n",
        "import json"
      ],
      "metadata": {
        "id": "Xp7u2nOzCopi"
      },
      "execution_count": 28,
      "outputs": []
    },
    {
      "cell_type": "code",
      "execution_count": 29,
      "metadata": {
        "id": "RekkbQSOCiLi"
      },
      "outputs": [],
      "source": [
        "URL = \"https://www.pepper.pl/nowe\""
      ]
    },
    {
      "cell_type": "code",
      "source": [
        "response = requests.get(URL, headers={'User-Agent': 'Mozilla/5.0'})\n",
        "response"
      ],
      "metadata": {
        "colab": {
          "base_uri": "https://localhost:8080/"
        },
        "id": "b_qSONytCsoz",
        "outputId": "edf50560-ab10-424c-831d-9fefeb4eb894"
      },
      "execution_count": 30,
      "outputs": [
        {
          "output_type": "execute_result",
          "data": {
            "text/plain": [
              "<Response [200]>"
            ]
          },
          "metadata": {},
          "execution_count": 30
        }
      ]
    },
    {
      "cell_type": "code",
      "source": [
        "soup = BeautifulSoup(response.text, 'html.parser')"
      ],
      "metadata": {
        "id": "AUUKNOQNCuXK"
      },
      "execution_count": 31,
      "outputs": []
    },
    {
      "cell_type": "code",
      "source": [
        "offers_section = soup.find(\"div\", class_=\"listLayout-main\")\n",
        "offer_list = offers_section.find_all(\"article\", class_=\"thread\")\n",
        "print(type(offer_list))\n",
        "print(len(offer_list))"
      ],
      "metadata": {
        "colab": {
          "base_uri": "https://localhost:8080/"
        },
        "id": "zv1-8V6FC72-",
        "outputId": "97cc32ad-f194-42db-e0c4-e58f6225d961"
      },
      "execution_count": 32,
      "outputs": [
        {
          "output_type": "stream",
          "name": "stdout",
          "text": [
            "<class 'bs4.element.ResultSet'>\n",
            "30\n"
          ]
        }
      ]
    },
    {
      "cell_type": "code",
      "source": [
        "offer_list_normalized = []\n",
        "\n",
        "for offer in offer_list:\n",
        "  offer_data_string = offer.find(\"div\")[\"data-vue2\"]\n",
        "  offer_data_json = json.loads(offer_data_string)\n",
        "  offer_list_normalized.append(offer_data_json)"
      ],
      "metadata": {
        "id": "x00z5vS5EB2o"
      },
      "execution_count": 33,
      "outputs": []
    },
    {
      "cell_type": "code",
      "source": [
        "print(type(offer_list_normalized[0][\"props\"][\"thread\"]))"
      ],
      "metadata": {
        "colab": {
          "base_uri": "https://localhost:8080/"
        },
        "id": "0yFb_pxlGONZ",
        "outputId": "4616628f-40cb-40b4-f475-5750c158c37b"
      },
      "execution_count": 34,
      "outputs": [
        {
          "output_type": "stream",
          "name": "stdout",
          "text": [
            "<class 'dict'>\n"
          ]
        }
      ]
    },
    {
      "cell_type": "code",
      "source": [
        "for inx, offer in enumerate(offer_list_normalized):\n",
        "  print(f'Product: {offer_list_normalized[inx][\"props\"][\"thread\"][\"title\"]}, offer price: {offer_list_normalized[inx][\"props\"][\"thread\"][\"price\"]}, before discount was: {offer_list_normalized[inx][\"props\"][\"thread\"][\"nextBestPrice\"]}')"
      ],
      "metadata": {
        "id": "HEP-D0EeKLk4",
        "outputId": "b7acaaee-bd50-4ed0-b9c2-d4517979cb80",
        "colab": {
          "base_uri": "https://localhost:8080/"
        }
      },
      "execution_count": 35,
      "outputs": [
        {
          "output_type": "stream",
          "name": "stdout",
          "text": [
            "Product: Buff Czapka Solid Merino Lightweight, offer price: 67.44, before discount was: 79\n",
            "Product: Lodówka turystyczna YOLCO BX30 GREY (kompresorowa, 30L), promocja na AGD w Media Markt, offer price: 739, before discount was: 999\n",
            "Product: Buty Nike Air Force 1 Flyknit 2.0 r.40-43, offer price: 357, before discount was: 549\n",
            "Product: Biustonosz Sloggi Body Adapt za 70zł [Prime] @ Amazon.pl, offer price: 70.3, before discount was: 99\n",
            "Product: Der-Franz 45123 Crema Cała kawa ziarnista 4 opakowanie 1000 g (41,81 za sztukę) - Prime, offer price: 167.24, before discount was: 228.94\n",
            "Product: AMD Ryzen 7 7800X3D, offer price: 1729, before discount was: 1899\n",
            "Product: Uchwyt / wieszak na słuchawki KDD-727W (na biurko, półkę) biały @ Amazon, offer price: 24.65, before discount was: 70\n",
            "Product: Google Pixel 7a 8/128GB Biały, offer price: 1409.8, before discount was: 0\n",
            "Product: [Prime] Powerbank Anker PowerCore 737 (24000 mAh, 140W) @ Amazon, offer price: 398, before discount was: 501.52\n",
            "Product: Gra Blokus z talią kart UNO - Mattel Blokus Shuffle GXV91, offer price: 80, before discount was: 99\n",
            "Product: Obudowa komputerowa ENDORFY Signum 300 Air, offer price: 219, before discount was: 319\n",
            "Product: Słuchawki bezprzewodowe SteelSeries Arctis 7+ @ Euro, offer price: 398, before discount was: 499\n",
            "Product: 8 sztuk okularów w kształcie serca, offer price: 9.42, before discount was: 0\n",
            "Product: Szczoteczka soniczna Philips Sonicare 4100 HX3683/54 @Amazon Prime, offer price: 219.99, before discount was: 299\n",
            "Product: BLIK Płacę Później PROMOCJA - Zyskaj 50 zł (tylko klienci banku Millennium oraz VeloBank), offer price: 0, before discount was: 0\n",
            "Product: Bose QuietComfort Ultra EarBuds - Prime, offer price: 958, before discount was: 1025.57\n",
            "Product: Lampa solna Deluxa, offer price: 16.95, before discount was: 22.95\n",
            "Product: Skórzany pasek męski Levi's za 76zł [Prime] @ Amazon.pl, offer price: 76, before discount was: 119.92\n",
            "Product: Zasilacz Cooler Master MWE GOLD V2 750W 80 Plus Gold ATX 3.0, offer price: 299, before discount was: 399\n",
            "Product: Chłodzenie procesora Corsair iCUE H150i RGB PRO XT 3x120mm, offer price: 519, before discount was: 849\n",
            "Product: Podwójna stacja ładowania Battletron PlayStation 5, offer price: 17.95, before discount was: 0\n",
            "Product: Heynna Łyżeczki do herbaty \"Llano\" ze stali nierdzewnej - zestaw 8 sztuk - Prime, offer price: 17.22, before discount was: 39.99\n",
            "Product: Kabel deleyCON DisplayPort 2m - 4K 2160p 3D HDCP - DP na DP, offer price: 9.58, before discount was: 21.47\n",
            "Product: Multitool za 1 zł przy zakupie sprężyn obniżajacych, offer price: 0, before discount was: 0\n",
            "Product: Buty męskie trekkingowe skórzane ECCO MX r. 39-47 (za 218-310zł) @Amazon Prime, offer price: 269, before discount was: 629\n",
            "Product: Baseus Kabel USB C 100 W, 1 m kabel do szybkiego ładowania USB C na USB C z PD 5A QC 5.0 | 2 m za 17,33 zł. link w opisie - prime, offer price: 15.43, before discount was: 29.99\n",
            "Product: Givenchy gentleman 100 ml - CENA Z KODEM: BIGP10, offer price: 268.06, before discount was: 296.31\n",
            "Product: Kalkulator naukowy Casio FX-CG50, offer price: 368.76, before discount was: 497\n",
            "Product: Filtr do ekspresu DELONGHI DLS C002 ( okazja dla tych co nie mają PRIME), offer price: 30.9, before discount was: 0\n",
            "Product: Dysk SDD MSI 1TB M.2 PCIe NVMe Spatium M371, offer price: 219, before discount was: 0\n"
          ]
        }
      ]
    },
    {
      "cell_type": "code",
      "source": [],
      "metadata": {
        "id": "7M2rQeuOOp1N"
      },
      "execution_count": 35,
      "outputs": []
    }
  ]
}