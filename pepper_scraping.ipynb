{
  "nbformat": 4,
  "nbformat_minor": 0,
  "metadata": {
    "colab": {
      "provenance": [],
      "authorship_tag": "ABX9TyPFvaNHDu6vjD+FjSR2WndR",
      "include_colab_link": true
    },
    "kernelspec": {
      "name": "python3",
      "display_name": "Python 3"
    },
    "language_info": {
      "name": "python"
    }
  },
  "cells": [
    {
      "cell_type": "markdown",
      "metadata": {
        "id": "view-in-github",
        "colab_type": "text"
      },
      "source": [
        "<a href=\"https://colab.research.google.com/github/JarekMaleszyk/data-scraping-examples/blob/main/pepper_scraping.ipynb\" target=\"_parent\"><img src=\"https://colab.research.google.com/assets/colab-badge.svg\" alt=\"Open In Colab\"/></a>"
      ]
    },
    {
      "cell_type": "code",
      "source": [
        "import requests\n",
        "from bs4 import BeautifulSoup\n",
        "import json"
      ],
      "metadata": {
        "id": "Xp7u2nOzCopi"
      },
      "execution_count": 57,
      "outputs": []
    },
    {
      "cell_type": "code",
      "execution_count": 58,
      "metadata": {
        "id": "RekkbQSOCiLi"
      },
      "outputs": [],
      "source": [
        "URL = \"https://www.pepper.pl/nowe\""
      ]
    },
    {
      "cell_type": "code",
      "source": [
        "response = requests.get(URL, headers={'User-Agent': 'Mozilla/5.0'})\n",
        "response"
      ],
      "metadata": {
        "colab": {
          "base_uri": "https://localhost:8080/"
        },
        "id": "b_qSONytCsoz",
        "outputId": "c196a048-9716-4de3-c718-b74e1f8acb75"
      },
      "execution_count": 59,
      "outputs": [
        {
          "output_type": "execute_result",
          "data": {
            "text/plain": [
              "<Response [200]>"
            ]
          },
          "metadata": {},
          "execution_count": 59
        }
      ]
    },
    {
      "cell_type": "code",
      "source": [
        "soup = BeautifulSoup(response.text, 'html.parser')"
      ],
      "metadata": {
        "id": "AUUKNOQNCuXK"
      },
      "execution_count": 60,
      "outputs": []
    },
    {
      "cell_type": "code",
      "source": [
        "offers_section = soup.find(\"div\", class_=\"listLayout-main\")\n",
        "offer_list = offers_section.find_all(\"article\", class_=\"thread\")\n",
        "print(type(offer_list))\n",
        "print(len(offer_list))"
      ],
      "metadata": {
        "colab": {
          "base_uri": "https://localhost:8080/"
        },
        "id": "zv1-8V6FC72-",
        "outputId": "21b5e73d-440c-4744-bb45-9dd61e899d90"
      },
      "execution_count": 61,
      "outputs": [
        {
          "output_type": "stream",
          "name": "stdout",
          "text": [
            "<class 'bs4.element.ResultSet'>\n",
            "30\n"
          ]
        }
      ]
    },
    {
      "cell_type": "code",
      "source": [
        "offer_list_normalized = []\n",
        "\n",
        "for offer in offer_list:\n",
        "  offer_data_string = offer.find(\"div\")[\"data-vue2\"]\n",
        "  offer_data_json = json.loads(offer_data_string)\n",
        "  offer_list_normalized.append(offer_data_json)"
      ],
      "metadata": {
        "id": "x00z5vS5EB2o"
      },
      "execution_count": 62,
      "outputs": []
    },
    {
      "cell_type": "code",
      "source": [
        "offer_list_normalized[0]"
      ],
      "metadata": {
        "colab": {
          "base_uri": "https://localhost:8080/"
        },
        "id": "0yFb_pxlGONZ",
        "outputId": "86cfbfd8-b535-4407-8695-766fbc05df64"
      },
      "execution_count": 63,
      "outputs": [
        {
          "output_type": "execute_result",
          "data": {
            "text/plain": [
              "{'name': 'ThreadMainListItemNormalizer',\n",
              " 'props': {'thread': {'threadId': '905465',\n",
              "   'threadTypeId': 1,\n",
              "   'titleSlug': 'zasilacz-cooler-master-mwe-gold-v2-750w-80-plus-gold-atx-30',\n",
              "   'title': 'Zasilacz Cooler Master MWE GOLD V2 750W 80 Plus Gold ATX 3.0',\n",
              "   'currentUserVoteDirection': '',\n",
              "   'commentCount': 0,\n",
              "   'status': 'Activated',\n",
              "   'isExpired': False,\n",
              "   'isNew': True,\n",
              "   'isPinned': False,\n",
              "   'isTrending': None,\n",
              "   'isBookmarked': False,\n",
              "   'isLocal': False,\n",
              "   'temperature': 2.3,\n",
              "   'temperatureLevel': 'Hot1',\n",
              "   'type': 'Deal',\n",
              "   'nsfw': False,\n",
              "   'deletedAt': None,\n",
              "   'isAffiliateTrackingDisabled': False,\n",
              "   'isAffiliateDescriptionDisabled': False,\n",
              "   'isEditLocked': False,\n",
              "   'isExpireLocked': False,\n",
              "   'contentLockedBy': None,\n",
              "   'isSpamLocked': False,\n",
              "   'isLocked': False,\n",
              "   'isNewsletterPicked': None,\n",
              "   'isCommentsModerationOn': None,\n",
              "   'isPushed': None,\n",
              "   'pinId': None,\n",
              "   'publishedAt': 1728458607,\n",
              "   'voucherCode': 'komponenty',\n",
              "   'link': 'https://www.x-kom.pl/p/1267525-zasilacz-do-komputera-cooler-master-mwe-gold-v2-750w-80-plus-gold-atx-30.html',\n",
              "   'shareableLink': 'https://www.pepper.pl/share-deal/905465',\n",
              "   'merchant': {'merchantId': 10,\n",
              "    'merchantName': 'x-kom',\n",
              "    'merchantUrlName': 'x-kom.pl',\n",
              "    'isMerchantPageEnabled': True,\n",
              "    'avatar': {'path': 'merchants/raw/avatar',\n",
              "     'name': '10_2',\n",
              "     'slotId': 'avatar',\n",
              "     'width': 0,\n",
              "     'height': 0,\n",
              "     'version': 2,\n",
              "     'unattached': False,\n",
              "     'uid': '10_2.raw',\n",
              "     'ext': 'raw'}},\n",
              "   'mainImage': {'path': 'threads/raw/BgiP0',\n",
              "    'name': '905465_1',\n",
              "    'slotId': 'BgiP0',\n",
              "    'width': 617,\n",
              "    'height': 530,\n",
              "    'version': 1,\n",
              "    'unattached': False,\n",
              "    'uid': '905465_1.jpg',\n",
              "    'ext': 'jpg'},\n",
              "   'price': 299,\n",
              "   'nextBestPrice': 399,\n",
              "   'percentage': 0,\n",
              "   'discountType': None,\n",
              "   'shipping': {'isFree': 0, 'price': 10.99},\n",
              "   'user': {'userId': 233427,\n",
              "    'username': 'PawelPelson',\n",
              "    'title': '',\n",
              "    'avatar': {'path': 'users/raw/default',\n",
              "     'name': '233427_2',\n",
              "     'slotId': 'default',\n",
              "     'width': 0,\n",
              "     'height': 0,\n",
              "     'version': 2,\n",
              "     'unattached': False,\n",
              "     'uid': '233427_2.raw',\n",
              "     'ext': 'raw'},\n",
              "    'persona': {'text': None, 'type': None},\n",
              "    'isBanned': False,\n",
              "    'isDeletedOrPendingDeletion': False,\n",
              "    'isUserProfileHidden': False},\n",
              "   'startDate': None,\n",
              "   'endDate': {'timestamp': 1729029540},\n",
              "   'isExclusive': False,\n",
              "   'isVoucherCodeHidden': False,\n",
              "   'claimCodeCampaignId': None,\n",
              "   'claimCodeCampaign': None}}}"
            ]
          },
          "metadata": {},
          "execution_count": 63
        }
      ]
    },
    {
      "cell_type": "code",
      "source": [],
      "metadata": {
        "id": "HEP-D0EeKLk4"
      },
      "execution_count": 63,
      "outputs": []
    }
  ]
}