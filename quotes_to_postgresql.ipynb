{
  "nbformat": 4,
  "nbformat_minor": 0,
  "metadata": {
    "colab": {
      "provenance": [],
      "authorship_tag": "ABX9TyOHXDWpYmiY7+NZmIbhYFU/",
      "include_colab_link": true
    },
    "kernelspec": {
      "name": "python3",
      "display_name": "Python 3"
    },
    "language_info": {
      "name": "python"
    }
  },
  "cells": [
    {
      "cell_type": "markdown",
      "metadata": {
        "id": "view-in-github",
        "colab_type": "text"
      },
      "source": [
        "<a href=\"https://colab.research.google.com/github/JarekMaleszyk/data-scraping-examples/blob/main/quotes_to_postgresql.ipynb\" target=\"_parent\"><img src=\"https://colab.research.google.com/assets/colab-badge.svg\" alt=\"Open In Colab\"/></a>"
      ]
    },
    {
      "cell_type": "code",
      "execution_count": 10,
      "metadata": {
        "id": "k--0LlSYL4Ef"
      },
      "outputs": [],
      "source": [
        "import requests\n",
        "from bs4 import BeautifulSoup"
      ]
    },
    {
      "cell_type": "code",
      "source": [
        "quotes_url = \"https://quotes.toscrape.com/\"\n",
        "\n",
        "response = requests.get(quotes_url)\n",
        "response"
      ],
      "metadata": {
        "colab": {
          "base_uri": "https://localhost:8080/"
        },
        "id": "K0u-fWf1L93C",
        "outputId": "2a9272a8-44eb-4b67-959b-2cdb2e59e5ff"
      },
      "execution_count": 2,
      "outputs": [
        {
          "output_type": "execute_result",
          "data": {
            "text/plain": [
              "<Response [200]>"
            ]
          },
          "metadata": {},
          "execution_count": 2
        }
      ]
    },
    {
      "cell_type": "code",
      "source": [
        "soup = BeautifulSoup(response.text, 'html.parser')"
      ],
      "metadata": {
        "id": "QWlv2gNCL_VM"
      },
      "execution_count": 3,
      "outputs": []
    },
    {
      "cell_type": "code",
      "source": [
        "quotes_list = []\n",
        "for i in range(5):\n",
        "    for quote in soup.find_all(\"div\", class_=\"quote\"):\n",
        "\n",
        "        single_quote = dict()\n",
        "\n",
        "        single_quote[\"text\"] = quote.find(\"span\", class_=\"text\").text.replace('“', '').replace('”', '')\n",
        "\n",
        "        single_quote[\"author\"] = quote.find(\"small\", class_=\"author\").text\n",
        "\n",
        "        tags = quote.find_all(\"a\", \"tag\")\n",
        "        tags_texts = [t.text for t in tags]\n",
        "        single_quote[\"tags\"] = tags_texts\n",
        "\n",
        "        quotes_list.append(single_quote)\n",
        "\n",
        "    sub_url = soup.find(\"li\", class_=\"next\").find(\"a\").attrs[\"href\"]\n",
        "    next_page_url = quotes_url + sub_url\n",
        "    response = requests.get(next_page_url)\n",
        "    soup = BeautifulSoup(response.text, 'html.parser')"
      ],
      "metadata": {
        "id": "lzjZZRkyMA28"
      },
      "execution_count": 4,
      "outputs": []
    },
    {
      "cell_type": "code",
      "source": [
        "quotes_list[0]"
      ],
      "metadata": {
        "colab": {
          "base_uri": "https://localhost:8080/"
        },
        "id": "Pu9HbJh8MBVj",
        "outputId": "bc7b1bc0-f198-4f55-bf08-2cfd0fffac8c"
      },
      "execution_count": 5,
      "outputs": [
        {
          "output_type": "execute_result",
          "data": {
            "text/plain": [
              "{'text': 'The world as we have created it is a process of our thinking. It cannot be changed without changing our thinking.',\n",
              " 'author': 'Albert Einstein',\n",
              " 'tags': ['change', 'deep-thoughts', 'thinking', 'world']}"
            ]
          },
          "metadata": {},
          "execution_count": 5
        }
      ]
    },
    {
      "cell_type": "code",
      "source": [
        "import psycopg2"
      ],
      "metadata": {
        "id": "QhTXMohPMDPL"
      },
      "execution_count": 6,
      "outputs": []
    },
    {
      "cell_type": "code",
      "source": [
        "DATABASE = \"scrapy\"\n",
        "DB_PASSWORD = \"postgres\"\n",
        "DB_USER = \"postgres\"\n",
        "HOST = \"localhost\"\n",
        "PORT = 5432"
      ],
      "metadata": {
        "id": "xF9EhGMoMG0C"
      },
      "execution_count": 7,
      "outputs": []
    },
    {
      "cell_type": "code",
      "source": [
        "conn = psycopg2.connect(dbname=DATABASE, user=DB_USER, password=DB_PASSWORD, host=HOST, port=PORT)"
      ],
      "metadata": {
        "id": "WCILUhKTMIPx"
      },
      "execution_count": null,
      "outputs": []
    },
    {
      "cell_type": "code",
      "source": [
        "cursor = conn.cursor()"
      ],
      "metadata": {
        "id": "x7-kre8iMJXh"
      },
      "execution_count": null,
      "outputs": []
    },
    {
      "cell_type": "code",
      "source": [
        "drop_query = '''\n",
        "DROP TABLE IF EXISTS quotes;\n",
        "'''\n",
        "\n",
        "cursor.execute(drop_query)\n",
        "conn.commit()"
      ],
      "metadata": {
        "id": "GILgJAPWMLA_"
      },
      "execution_count": null,
      "outputs": []
    },
    {
      "cell_type": "code",
      "source": [
        "create_query = '''\n",
        "CREATE TABLE IF NOT EXISTS quotes (\n",
        "    id          SERIAL PRIMARY KEY not null,\n",
        "    text        TEXT,\n",
        "    author      VARCHAR(255),\n",
        "    tags        TEXT,\n",
        "    insert_date DATE not null default CURRENT_DATE\n",
        ");\n",
        "'''"
      ],
      "metadata": {
        "id": "xrIiZBajMTdo"
      },
      "execution_count": null,
      "outputs": []
    },
    {
      "cell_type": "code",
      "source": [
        "cursor.execute(create_query)\n",
        "conn.commit()"
      ],
      "metadata": {
        "id": "moXI2tD8MUsc"
      },
      "execution_count": null,
      "outputs": []
    },
    {
      "cell_type": "code",
      "source": [
        "import logging\n",
        "\n",
        "try:\n",
        "    for value in quotes_list:\n",
        "        text = value[\"text\"].replace(\"'\", \"''\")\n",
        "        author = value[\"author\"]\n",
        "        tags = \", \".join(value[\"tags\"])\n",
        "        insert_query =  f\"\"\"\n",
        "                        INSERT INTO \"quotes\"\n",
        "                        (id, \"text\", author, tags, insert_date)\n",
        "                        VALUES(nextval('quotes_id_seq'::regclass), '{text}', '{author}', '{tags}', CURRENT_DATE);\n",
        "                        \"\"\"\n",
        "        cursor.execute(insert_query)\n",
        "except DatabaseError as dbe:\n",
        "    logging.error(f\"Database error: {dbe}\")\n",
        "    conn.rollback()\n",
        "except ex:\n",
        "    logging.error(f\"Other error: {ex}\")\n",
        "    conn.rollback()\n",
        "else:\n",
        "    conn.commit()\n",
        "finally:\n",
        "    conn.close()\n",
        "    cursor.close()"
      ],
      "metadata": {
        "id": "tKHykUdnMU5c"
      },
      "execution_count": null,
      "outputs": []
    },
    {
      "cell_type": "code",
      "source": [],
      "metadata": {
        "id": "dylkZNudMVHL"
      },
      "execution_count": null,
      "outputs": []
    }
  ]
}