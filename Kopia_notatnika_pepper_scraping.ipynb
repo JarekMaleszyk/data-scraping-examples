{
  "nbformat": 4,
  "nbformat_minor": 0,
  "metadata": {
    "colab": {
      "provenance": [],
      "authorship_tag": "ABX9TyMzKiYYtqah/ONpE7h7hqVL",
      "include_colab_link": true
    },
    "kernelspec": {
      "name": "python3",
      "display_name": "Python 3"
    },
    "language_info": {
      "name": "python"
    }
  },
  "cells": [
    {
      "cell_type": "markdown",
      "metadata": {
        "id": "view-in-github",
        "colab_type": "text"
      },
      "source": [
        "<a href=\"https://colab.research.google.com/github/JarekMaleszyk/data-scraping-examples/blob/main/Kopia_notatnika_pepper_scraping.ipynb\" target=\"_parent\"><img src=\"https://colab.research.google.com/assets/colab-badge.svg\" alt=\"Open In Colab\"/></a>"
      ]
    },
    {
      "cell_type": "code",
      "source": [
        "import requests\n",
        "from bs4 import BeautifulSoup\n",
        "import json"
      ],
      "metadata": {
        "id": "Xp7u2nOzCopi"
      },
      "execution_count": 125,
      "outputs": []
    },
    {
      "cell_type": "code",
      "execution_count": 126,
      "metadata": {
        "id": "RekkbQSOCiLi"
      },
      "outputs": [],
      "source": [
        "URL = \"https://www.pepper.pl/nowe\""
      ]
    },
    {
      "cell_type": "code",
      "source": [
        "response = requests.get(URL, headers={'User-Agent': 'Mozilla/5.0'})\n",
        "response"
      ],
      "metadata": {
        "colab": {
          "base_uri": "https://localhost:8080/"
        },
        "id": "b_qSONytCsoz",
        "outputId": "9dc98bb4-7e4e-4f07-e0ae-a7155857b10f"
      },
      "execution_count": 127,
      "outputs": [
        {
          "output_type": "execute_result",
          "data": {
            "text/plain": [
              "<Response [200]>"
            ]
          },
          "metadata": {},
          "execution_count": 127
        }
      ]
    },
    {
      "cell_type": "code",
      "source": [
        "soup = BeautifulSoup(response.text, 'html.parser')"
      ],
      "metadata": {
        "id": "AUUKNOQNCuXK"
      },
      "execution_count": 120,
      "outputs": []
    },
    {
      "cell_type": "code",
      "source": [
        "offers_section = soup.find(\"div\", class_=\"listLayout-main\")\n",
        "offer_list = offers_section.find_all(\"article\", class_=\"thread\")\n",
        "print(type(offer_list))\n",
        "print(len(offer_list))"
      ],
      "metadata": {
        "colab": {
          "base_uri": "https://localhost:8080/"
        },
        "id": "zv1-8V6FC72-",
        "outputId": "add3f934-88f6-4bcc-8d2a-450cd27e8324"
      },
      "execution_count": 121,
      "outputs": [
        {
          "output_type": "stream",
          "name": "stdout",
          "text": [
            "<class 'bs4.element.ResultSet'>\n",
            "30\n"
          ]
        }
      ]
    },
    {
      "cell_type": "code",
      "source": [
        "offer_list_normalized = []\n",
        "\n",
        "for offer in offer_list:\n",
        "  offer_data_string = offer.find(\"div\")[\"data-vue2\"]\n",
        "  offer_data_json = json.loads(offer_data_string)\n",
        "  offer_list_normalized.append(offer_data_json)"
      ],
      "metadata": {
        "id": "x00z5vS5EB2o"
      },
      "execution_count": 122,
      "outputs": []
    },
    {
      "cell_type": "code",
      "source": [
        "print(type(offer_list_normalized[0][\"props\"][\"thread\"]))"
      ],
      "metadata": {
        "colab": {
          "base_uri": "https://localhost:8080/"
        },
        "id": "0yFb_pxlGONZ",
        "outputId": "d05ced6a-b7c5-4512-d0ed-f9c4f70db0fe"
      },
      "execution_count": 123,
      "outputs": [
        {
          "output_type": "stream",
          "name": "stdout",
          "text": [
            "<class 'dict'>\n"
          ]
        }
      ]
    },
    {
      "cell_type": "code",
      "source": [
        "for inx, offer in enumerate(offer_list_normalized):\n",
        "  print(f'Product: {offer_list_normalized[inx][\"props\"][\"thread\"][\"title\"]}, offer price: {offer_list_normalized[inx][\"props\"][\"thread\"][\"price\"]}, before discount was: {offer_list_normalized[inx][\"props\"][\"thread\"][\"nextBestPrice\"]}')"
      ],
      "metadata": {
        "id": "HEP-D0EeKLk4",
        "colab": {
          "base_uri": "https://localhost:8080/"
        },
        "outputId": "9d405227-a982-4667-d6fc-cc06d2af5fe0"
      },
      "execution_count": 124,
      "outputs": [
        {
          "output_type": "stream",
          "name": "stdout",
          "text": [
            "Product: Winyl - Rick Astley Hold Me in Your Arms - 59 zł; Love This Christmas / When I Fall in Love - 40 zł @ Amazon, offer price: 58.97, before discount was: 99\n",
            "Product: The Hong Kong Massacre / BEAUTIFUL DESOLATION Bundle @ Switch, offer price: 7.99, before discount was: 0\n",
            "Product: Dysk Crucial 1TB 2,5\" SATA SSD MX500, offer price: 289, before discount was: 308.82\n",
            "Product: Tydzień na komponenty -> np. Zasilacz ENDORFY Supremo FM5 650W 80 Plus Gold za 249 zł, więcej w opisie @ x-kom, offer price: 249, before discount was: 357\n",
            "Product: Hape Baby Einstein Magiczna dotykowa kuchnia zabawka interaktywna, offer price: 79.99, before discount was: 104.92\n",
            "Product: FELIX smakowa kraju w galaretce mokra karma dla kota 44 x 85 g - Dni Amazon, offer price: 49.49, before discount was: 67.44\n",
            "Product: Amazon Prime: NordVPN Standard Roczna subskrypcja, offer price: 180.27, before discount was: 277.55\n",
            "Product: Monitor Xiaomi A22i 75HZ, offer price: 299, before discount was: 329\n",
            "Product: Czapka z daszkiem Jack Wolfskin, offer price: 54.23, before discount was: 0\n",
            "Product: Procesor AMD Ryzen 7 5800X, offer price: 589, before discount was: 630\n",
            "Product: Ser w plastrach Gouda Mlekovita kg @Netto, offer price: 17.99, before discount was: 29.99\n",
            "Product: Hogwarts Legacy PC @ Steam, offer price: 57.89, before discount was: 0\n",
            "Product: Monitor LG UltraGear 24GS50F-B, offer price: 449, before discount was: 499\n",
            "Product: Worx Piła Szablasta, offer price: 173.46, before discount was: 339.17\n",
            "Product: Etui ochronne na kartę płatniczą - Media Expert, offer price: 4.99, before discount was: 9.99\n",
            "Product: Kupon na 10 zł za zakupy min 100zł Kaufland, offer price: 10, before discount was: 0\n",
            "Product: D.Perlla Zestaw noży kuchennych ze stali nierdzewnej, z drewnianym blokiem, 16 elementów, profesjonalne noże kuchenne, offer price: 182.43, before discount was: 279.99\n",
            "Product: Ręcznik papierowy XXL Samelle 100m 1+1 gratis @Netto, offer price: 6.49, before discount was: 12.98\n",
            "Product: Biurko STAUNING 80x160cm czarne., offer price: 350, before discount was: 549\n",
            "Product: Zegarek Fossil Neutra, offer price: 236.04, before discount was: 469\n",
            "Product: Control: Ultimate Edition PS4 / PS5, offer price: 35.8, before discount was: 0\n",
            "Product: Narzędzie Wielofunkcyjne Ryobi ONE+ R18MT-0 18V - Prime, offer price: 355.83, before discount was: 449\n",
            "Product: Słuchawki Soundcore Space Q45 - 89,99€, offer price: 388.28, before discount was: 455.96\n",
            "Product: Everdell: Kompletna kolekcja gra planszowa | (kod -10% w sklepie shopgracz na wszystko) | link do wyprzedaży w opisie (dot. również LEGO), offer price: 897.74, before discount was: 1184.45\n",
            "Product: Finish Quantum Kapsułki do Zmywarki Lemon 100 szt (0.6zl za sztukę), offer price: 59.99, before discount was: 0\n",
            "Product: Clementoni Galileo Lab - biosfera, zestaw eksperymentów dla małych ogrodników hobbystycznych, botaniki i biologii dla dzieci, offer price: 43.41, before discount was: 112.8\n",
            "Product: Jean Michel Jarre - Welcome To The Other Side ( winyl 180 gram ), offer price: 56.47, before discount was: 105.88\n",
            "Product: KIA SPORTAGE 1,6T-GDI 6MT FWD 150KM, wyposażenie M, kolor Black Pearl/Yucca Steel Grey, 2024r., offer price: 114400, before discount was: 131800\n",
            "Product: Apple Silikonowe etui z MagSafe iPhone 14 Plus, offer price: 49, before discount was: 0\n",
            "Product: Koszulka męska Puma czarna, offer price: 42.52, before discount was: 0\n"
          ]
        }
      ]
    },
    {
      "cell_type": "code",
      "source": [],
      "metadata": {
        "id": "7M2rQeuOOp1N"
      },
      "execution_count": 124,
      "outputs": []
    },
    {
      "cell_type": "code",
      "source": [],
      "metadata": {
        "id": "PDUYGy6hP3ve"
      },
      "execution_count": 124,
      "outputs": []
    }
  ]
}